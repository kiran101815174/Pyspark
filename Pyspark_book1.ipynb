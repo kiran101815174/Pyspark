{
  "nbformat": 4,
  "nbformat_minor": 0,
  "metadata": {
    "colab": {
      "name": "Pyspark_book1.ipynb",
      "provenance": []
    },
    "kernelspec": {
      "name": "python3",
      "display_name": "Python 3"
    },
    "language_info": {
      "name": "python"
    }
  },
  "cells": [
    {
      "cell_type": "code",
      "metadata": {
        "id": "uRi6F3RcA2iN"
      },
      "source": [
        "#PySpark Dataframe\n",
        "# Reading The Dataset\n",
        "# Checking the Datatypes of the Column(Schema)\n",
        "# Selecting Columns And Indexing\n",
        "# Check Describe option similar to Pandas\n",
        "# Adding Columns\n",
        "# Dropping columns\n",
        "# Renaming Columns"
      ],
      "execution_count": null,
      "outputs": []
    },
    {
      "cell_type": "code",
      "metadata": {
        "colab": {
          "base_uri": "https://localhost:8080/"
        },
        "id": "PDUaeGmuq89w",
        "outputId": "841cd6d9-a160-4f83-d30f-41195417b787"
      },
      "source": [
        "from google.colab import drive\n",
        "drive.mount('/content/gdrive')"
      ],
      "execution_count": 4,
      "outputs": [
        {
          "output_type": "stream",
          "name": "stdout",
          "text": [
            "Mounted at /content/gdrive\n"
          ]
        }
      ]
    },
    {
      "cell_type": "code",
      "metadata": {
        "colab": {
          "base_uri": "https://localhost:8080/"
        },
        "id": "UEwiIlGkp5wT",
        "outputId": "189533e3-7eb9-4478-9ef8-7b4ca9b35094"
      },
      "source": [
        "!pip install pyspark"
      ],
      "execution_count": 2,
      "outputs": [
        {
          "output_type": "stream",
          "name": "stdout",
          "text": [
            "Collecting pyspark\n",
            "  Downloading pyspark-3.1.2.tar.gz (212.4 MB)\n",
            "\u001b[K     |████████████████████████████████| 212.4 MB 62 kB/s \n",
            "\u001b[?25hCollecting py4j==0.10.9\n",
            "  Downloading py4j-0.10.9-py2.py3-none-any.whl (198 kB)\n",
            "\u001b[K     |████████████████████████████████| 198 kB 60.2 MB/s \n",
            "\u001b[?25hBuilding wheels for collected packages: pyspark\n",
            "  Building wheel for pyspark (setup.py) ... \u001b[?25l\u001b[?25hdone\n",
            "  Created wheel for pyspark: filename=pyspark-3.1.2-py2.py3-none-any.whl size=212880768 sha256=dfc8a69d04394b9ef6379a88afbf25013dbba32a0af8d44ad5c0e6e30f6d122e\n",
            "  Stored in directory: /root/.cache/pip/wheels/a5/0a/c1/9561f6fecb759579a7d863dcd846daaa95f598744e71b02c77\n",
            "Successfully built pyspark\n",
            "Installing collected packages: py4j, pyspark\n",
            "Successfully installed py4j-0.10.9 pyspark-3.1.2\n"
          ]
        }
      ]
    },
    {
      "cell_type": "code",
      "metadata": {
        "id": "O3F5-bkYqpCx"
      },
      "source": [
        "import pyspark"
      ],
      "execution_count": 26,
      "outputs": []
    },
    {
      "cell_type": "code",
      "metadata": {
        "id": "iXLrZOYfqo9z"
      },
      "source": [
        "from pyspark.sql import SparkSession\n",
        "spark=SparkSession.builder.appName('practise').getOrCreate()"
      ],
      "execution_count": 27,
      "outputs": []
    },
    {
      "cell_type": "code",
      "metadata": {
        "id": "ae_8U3bZqo8E"
      },
      "source": [
        "df_spark=spark.read.csv('/content/gdrive/MyDrive/singapore.csv') #this way you wont get first row as column names"
      ],
      "execution_count": 28,
      "outputs": []
    },
    {
      "cell_type": "code",
      "metadata": {
        "id": "aEpTEzMWqo39"
      },
      "source": [
        "df_spark=spark.read.option('header','true').csv('/content/gdrive/MyDrive/singapore.csv',inferSchema=True)"
      ],
      "execution_count": 29,
      "outputs": []
    },
    {
      "cell_type": "code",
      "metadata": {
        "colab": {
          "base_uri": "https://localhost:8080/"
        },
        "id": "sx77nP1zqo2Q",
        "outputId": "6f60bb79-505c-40fa-f868-b03d6273d252"
      },
      "source": [
        "df_spark.show(7)"
      ],
      "execution_count": 30,
      "outputs": [
        {
          "output_type": "stream",
          "name": "stdout",
          "text": [
            "+----+---------------+-------------+------+\n",
            "|year|        level_1|      level_2| value|\n",
            "+----+---------------+-------------+------+\n",
            "|1957|Total Residents|0  -  4 Years|264727|\n",
            "|1957|Total Residents|5  -  9 Years|218097|\n",
            "|1957|Total Residents|10 - 14 Years|136280|\n",
            "|1957|Total Residents|15 - 19 Years|135679|\n",
            "|1957|Total Residents|20 - 24 Years|119266|\n",
            "|1957|Total Residents|25 - 29 Years|111726|\n",
            "|1957|Total Residents|30 - 34 Years| 89925|\n",
            "+----+---------------+-------------+------+\n",
            "only showing top 7 rows\n",
            "\n"
          ]
        }
      ]
    },
    {
      "cell_type": "code",
      "metadata": {
        "colab": {
          "base_uri": "https://localhost:8080/"
        },
        "id": "pua0IAPutsw5",
        "outputId": "aa3f3c96-2e70-465a-e2d0-5500065e40c9"
      },
      "source": [
        "df_spark.printSchema()"
      ],
      "execution_count": 31,
      "outputs": [
        {
          "output_type": "stream",
          "name": "stdout",
          "text": [
            "root\n",
            " |-- year: integer (nullable = true)\n",
            " |-- level_1: string (nullable = true)\n",
            " |-- level_2: string (nullable = true)\n",
            " |-- value: string (nullable = true)\n",
            "\n"
          ]
        }
      ]
    },
    {
      "cell_type": "code",
      "metadata": {
        "colab": {
          "base_uri": "https://localhost:8080/"
        },
        "id": "mrvLBxHf9KEL",
        "outputId": "4ccb292c-c6ef-4a15-f7cd-750de19c0724"
      },
      "source": [
        "df_spark.columns"
      ],
      "execution_count": 32,
      "outputs": [
        {
          "output_type": "execute_result",
          "data": {
            "text/plain": [
              "['year', 'level_1', 'level_2', 'value']"
            ]
          },
          "metadata": {},
          "execution_count": 32
        }
      ]
    },
    {
      "cell_type": "code",
      "metadata": {
        "colab": {
          "base_uri": "https://localhost:8080/"
        },
        "id": "5q2JmIq_9KCh",
        "outputId": "e016debd-a719-4b54-9b69-c38c870b05ce"
      },
      "source": [
        "df_spark.select(['year','level_1']).show(5)"
      ],
      "execution_count": 35,
      "outputs": [
        {
          "output_type": "stream",
          "name": "stdout",
          "text": [
            "+----+---------------+\n",
            "|year|        level_1|\n",
            "+----+---------------+\n",
            "|1957|Total Residents|\n",
            "|1957|Total Residents|\n",
            "|1957|Total Residents|\n",
            "|1957|Total Residents|\n",
            "|1957|Total Residents|\n",
            "+----+---------------+\n",
            "only showing top 5 rows\n",
            "\n"
          ]
        }
      ]
    },
    {
      "cell_type": "code",
      "metadata": {
        "id": "gBbN4f0r9J8A"
      },
      "source": [
        "#adding columns in data frame\n",
        "df_spark=df_spark.withColumn('new_entry',df_spark['year']+20)"
      ],
      "execution_count": 40,
      "outputs": []
    },
    {
      "cell_type": "code",
      "metadata": {
        "colab": {
          "base_uri": "https://localhost:8080/"
        },
        "id": "yi4ugxoY_uKW",
        "outputId": "6e166500-b5cd-486e-c747-1711897bab43"
      },
      "source": [
        "df_spark.show(5)"
      ],
      "execution_count": 41,
      "outputs": [
        {
          "output_type": "stream",
          "name": "stdout",
          "text": [
            "+----+---------------+-------------+------+---------+\n",
            "|year|        level_1|      level_2| value|new_entry|\n",
            "+----+---------------+-------------+------+---------+\n",
            "|1957|Total Residents|0  -  4 Years|264727|     1977|\n",
            "|1957|Total Residents|5  -  9 Years|218097|     1977|\n",
            "|1957|Total Residents|10 - 14 Years|136280|     1977|\n",
            "|1957|Total Residents|15 - 19 Years|135679|     1977|\n",
            "|1957|Total Residents|20 - 24 Years|119266|     1977|\n",
            "+----+---------------+-------------+------+---------+\n",
            "only showing top 5 rows\n",
            "\n"
          ]
        }
      ]
    },
    {
      "cell_type": "code",
      "metadata": {
        "colab": {
          "base_uri": "https://localhost:8080/"
        },
        "id": "CZgRdwSS_2sU",
        "outputId": "9a0f621d-c669-4e58-e0f3-5f9c06570ee5"
      },
      "source": [
        "#delete column\n",
        "df_spark_dropped=df_spark.drop('level_1')\n",
        "df_spark_dropped.show(5)"
      ],
      "execution_count": 43,
      "outputs": [
        {
          "output_type": "stream",
          "name": "stdout",
          "text": [
            "+----+-------------+------+---------+\n",
            "|year|      level_2| value|new_entry|\n",
            "+----+-------------+------+---------+\n",
            "|1957|0  -  4 Years|264727|     1977|\n",
            "|1957|5  -  9 Years|218097|     1977|\n",
            "|1957|10 - 14 Years|136280|     1977|\n",
            "|1957|15 - 19 Years|135679|     1977|\n",
            "|1957|20 - 24 Years|119266|     1977|\n",
            "+----+-------------+------+---------+\n",
            "only showing top 5 rows\n",
            "\n"
          ]
        }
      ]
    },
    {
      "cell_type": "code",
      "metadata": {
        "colab": {
          "base_uri": "https://localhost:8080/"
        },
        "id": "zUvYfLEAAcfC",
        "outputId": "a2e2db28-0a31-4e98-ddfb-a5770397ef0f"
      },
      "source": [
        "#rename the column \n",
        "df_spark.withColumnRenamed('level_2','age_bracket').show(5)"
      ],
      "execution_count": 44,
      "outputs": [
        {
          "output_type": "stream",
          "name": "stdout",
          "text": [
            "+----+---------------+-------------+------+---------+\n",
            "|year|        level_1|  age_bracket| value|new_entry|\n",
            "+----+---------------+-------------+------+---------+\n",
            "|1957|Total Residents|0  -  4 Years|264727|     1977|\n",
            "|1957|Total Residents|5  -  9 Years|218097|     1977|\n",
            "|1957|Total Residents|10 - 14 Years|136280|     1977|\n",
            "|1957|Total Residents|15 - 19 Years|135679|     1977|\n",
            "|1957|Total Residents|20 - 24 Years|119266|     1977|\n",
            "+----+---------------+-------------+------+---------+\n",
            "only showing top 5 rows\n",
            "\n"
          ]
        }
      ]
    }
  ]
}